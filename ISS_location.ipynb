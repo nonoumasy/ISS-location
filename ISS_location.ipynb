{
  "nbformat": 4,
  "nbformat_minor": 0,
  "metadata": {
    "colab": {
      "name": "ISS location.ipynb",
      "provenance": [],
      "collapsed_sections": [],
      "authorship_tag": "ABX9TyOAzsVNmajRd4d26RWc4ZvL",
      "include_colab_link": true
    },
    "kernelspec": {
      "name": "python3",
      "display_name": "Python 3"
    }
  },
  "cells": [
    {
      "cell_type": "markdown",
      "metadata": {
        "id": "view-in-github",
        "colab_type": "text"
      },
      "source": [
        "<a href=\"https://colab.research.google.com/github/nonoumasy/ISS-location/blob/master/ISS_location.ipynb\" target=\"_parent\"><img src=\"https://colab.research.google.com/assets/colab-badge.svg\" alt=\"Open In Colab\"/></a>"
      ]
    },
    {
      "cell_type": "code",
      "metadata": {
        "id": "0l6ZV3mhYuUr",
        "colab_type": "code",
        "colab": {}
      },
      "source": [
        "import requests\n",
        "import json\n",
        "import folium\n",
        "\n",
        "#iss API\n",
        "response = requests.get(\"http://api.open-notify.org/iss-now.json\")\n",
        "lat = float(response.json()['iss_position']['latitude']) #get latitude\n",
        "lon = float(response.json()['iss_position']['longitude']) #get longitude\n",
        "\n",
        "\n",
        "m = folium.Map(location=(lat,lon),\n",
        "               zoom_start=3)\n",
        "\n",
        "folium.Circle(location=(lat,lon), \n",
        "              radius=50000, \n",
        "              fill_color='red')\\\n",
        "              .add_to(m)\n",
        "m.save('iss_map.html')"
      ],
      "execution_count": 0,
      "outputs": []
    },
    {
      "cell_type": "code",
      "metadata": {
        "id": "fPeXTqHIYy8A",
        "colab_type": "code",
        "colab": {
          "base_uri": "https://localhost:8080/",
          "height": 34
        },
        "outputId": "83bbbd47-3eb3-400e-f444-e55d160777ad"
      },
      "source": [
        "(lat,lon)"
      ],
      "execution_count": 6,
      "outputs": [
        {
          "output_type": "execute_result",
          "data": {
            "text/plain": [
              "(-25.9685, -52.048)"
            ]
          },
          "metadata": {
            "tags": []
          },
          "execution_count": 6
        }
      ]
    },
    {
      "cell_type": "code",
      "metadata": {
        "id": "yP1M599TbdOD",
        "colab_type": "code",
        "colab": {
          "base_uri": "https://localhost:8080/",
          "height": 68
        },
        "outputId": "0cd3352c-f1e0-4a75-f6b3-41347c19a15a"
      },
      "source": [
        "response.json()"
      ],
      "execution_count": 10,
      "outputs": [
        {
          "output_type": "execute_result",
          "data": {
            "text/plain": [
              "{'iss_position': {'latitude': '-1.5730', 'longitude': '-32.6983'},\n",
              " 'message': 'success',\n",
              " 'timestamp': 1583709284}"
            ]
          },
          "metadata": {
            "tags": []
          },
          "execution_count": 10
        }
      ]
    },
    {
      "cell_type": "code",
      "metadata": {
        "id": "m8Y7l7m_b4u-",
        "colab_type": "code",
        "colab": {}
      },
      "source": [
        ""
      ],
      "execution_count": 0,
      "outputs": []
    }
  ]
}